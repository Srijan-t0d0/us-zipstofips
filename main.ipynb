{
 "cells": [
  {
   "cell_type": "code",
   "execution_count": 2,
   "metadata": {},
   "outputs": [],
   "source": [
    "import pandas as pd"
   ]
  },
  {
   "cell_type": "code",
   "execution_count": 9,
   "metadata": {},
   "outputs": [],
   "source": [
    "county = pd.read_excel('ZIP_COUNTY_062024.xlsx')\n",
    "tract = pd.read_excel('ZIP_TRACT_062024.xlsx')\n",
    "tract_zip = pd.read_excel('./TRACT_ZIP_062024.xlsx')\n",
    "cbsa = pd.read_excel('./ZIP_CBSA_062024.xlsx')\n",
    "county_sub = pd.read_excel('./ZIP_COUNTY_SUB_062024.xlsx')"
   ]
  },
  {
   "cell_type": "code",
   "execution_count": null,
   "metadata": {},
   "outputs": [
    {
     "data": {
      "text/plain": [
       "((54553, 8), (188984, 8), (188984, 8), (47491, 8), (119188, 8))"
      ]
     },
     "execution_count": 10,
     "metadata": {},
     "output_type": "execute_result"
    }
   ],
   "source": []
  },
  {
   "cell_type": "markdown",
   "metadata": {},
   "source": []
  },
  {
   "cell_type": "code",
   "execution_count": 4,
   "metadata": {},
   "outputs": [
    {
     "data": {
      "text/html": [
       "<div>\n",
       "<style scoped>\n",
       "    .dataframe tbody tr th:only-of-type {\n",
       "        vertical-align: middle;\n",
       "    }\n",
       "\n",
       "    .dataframe tbody tr th {\n",
       "        vertical-align: top;\n",
       "    }\n",
       "\n",
       "    .dataframe thead th {\n",
       "        text-align: right;\n",
       "    }\n",
       "</style>\n",
       "<table border=\"1\" class=\"dataframe\">\n",
       "  <thead>\n",
       "    <tr style=\"text-align: right;\">\n",
       "      <th></th>\n",
       "      <th>ZIP</th>\n",
       "      <th>COUNTY</th>\n",
       "      <th>USPS_ZIP_PREF_CITY</th>\n",
       "      <th>USPS_ZIP_PREF_STATE</th>\n",
       "      <th>RES_RATIO</th>\n",
       "      <th>BUS_RATIO</th>\n",
       "      <th>OTH_RATIO</th>\n",
       "      <th>TOT_RATIO</th>\n",
       "    </tr>\n",
       "  </thead>\n",
       "  <tbody>\n",
       "    <tr>\n",
       "      <th>2867</th>\n",
       "      <td>7013</td>\n",
       "      <td>34031</td>\n",
       "      <td>CLIFTON</td>\n",
       "      <td>NJ</td>\n",
       "      <td>1.0</td>\n",
       "      <td>1.0</td>\n",
       "      <td>1.0</td>\n",
       "      <td>1.0</td>\n",
       "    </tr>\n",
       "  </tbody>\n",
       "</table>\n",
       "</div>"
      ],
      "text/plain": [
       "       ZIP  COUNTY USPS_ZIP_PREF_CITY USPS_ZIP_PREF_STATE  RES_RATIO  \\\n",
       "2867  7013   34031            CLIFTON                  NJ        1.0   \n",
       "\n",
       "      BUS_RATIO  OTH_RATIO  TOT_RATIO  \n",
       "2867        1.0        1.0        1.0  "
      ]
     },
     "execution_count": 4,
     "metadata": {},
     "output_type": "execute_result"
    }
   ],
   "source": [
    "county[county[\"ZIP\"]==7013]"
   ]
  },
  {
   "cell_type": "code",
   "execution_count": 13,
   "metadata": {},
   "outputs": [
    {
     "data": {
      "text/plain": [
       "ZIP\n",
       "926      64\n",
       "959      54\n",
       "957      54\n",
       "60647    53\n",
       "11236    48\n",
       "         ..\n",
       "99836     1\n",
       "99833     1\n",
       "99832     1\n",
       "99830     1\n",
       "99829     1\n",
       "Name: count, Length: 39371, dtype: int64"
      ]
     },
     "execution_count": 13,
     "metadata": {},
     "output_type": "execute_result"
    }
   ],
   "source": [
    "tract.ZIP.value_counts()"
   ]
  },
  {
   "cell_type": "code",
   "execution_count": null,
   "metadata": {},
   "outputs": [],
   "source": []
  },
  {
   "cell_type": "code",
   "execution_count": 8,
   "metadata": {},
   "outputs": [
    {
     "data": {
      "text/html": [
       "<div>\n",
       "<style scoped>\n",
       "    .dataframe tbody tr th:only-of-type {\n",
       "        vertical-align: middle;\n",
       "    }\n",
       "\n",
       "    .dataframe tbody tr th {\n",
       "        vertical-align: top;\n",
       "    }\n",
       "\n",
       "    .dataframe thead th {\n",
       "        text-align: right;\n",
       "    }\n",
       "</style>\n",
       "<table border=\"1\" class=\"dataframe\">\n",
       "  <thead>\n",
       "    <tr style=\"text-align: right;\">\n",
       "      <th></th>\n",
       "      <th>TRACT</th>\n",
       "      <th>ZIP</th>\n",
       "      <th>USPS_ZIP_PREF_CITY</th>\n",
       "      <th>USPS_ZIP_PREF_STATE</th>\n",
       "      <th>RES_RATIO</th>\n",
       "      <th>BUS_RATIO</th>\n",
       "      <th>OTH_RATIO</th>\n",
       "      <th>TOT_RATIO</th>\n",
       "    </tr>\n",
       "  </thead>\n",
       "  <tbody>\n",
       "    <tr>\n",
       "      <th>0</th>\n",
       "      <td>1001020100</td>\n",
       "      <td>36067</td>\n",
       "      <td>PRATTVILLE</td>\n",
       "      <td>AL</td>\n",
       "      <td>1.000000</td>\n",
       "      <td>1.0000</td>\n",
       "      <td>1.00</td>\n",
       "      <td>1.000000</td>\n",
       "    </tr>\n",
       "    <tr>\n",
       "      <th>1</th>\n",
       "      <td>1001020200</td>\n",
       "      <td>36067</td>\n",
       "      <td>PRATTVILLE</td>\n",
       "      <td>AL</td>\n",
       "      <td>1.000000</td>\n",
       "      <td>1.0000</td>\n",
       "      <td>1.00</td>\n",
       "      <td>1.000000</td>\n",
       "    </tr>\n",
       "    <tr>\n",
       "      <th>2</th>\n",
       "      <td>1001020300</td>\n",
       "      <td>36067</td>\n",
       "      <td>PRATTVILLE</td>\n",
       "      <td>AL</td>\n",
       "      <td>1.000000</td>\n",
       "      <td>1.0000</td>\n",
       "      <td>1.00</td>\n",
       "      <td>1.000000</td>\n",
       "    </tr>\n",
       "    <tr>\n",
       "      <th>3</th>\n",
       "      <td>1001020400</td>\n",
       "      <td>36067</td>\n",
       "      <td>PRATTVILLE</td>\n",
       "      <td>AL</td>\n",
       "      <td>0.024483</td>\n",
       "      <td>0.5875</td>\n",
       "      <td>0.25</td>\n",
       "      <td>0.071003</td>\n",
       "    </tr>\n",
       "    <tr>\n",
       "      <th>4</th>\n",
       "      <td>1001020400</td>\n",
       "      <td>36066</td>\n",
       "      <td>PRATTVILLE</td>\n",
       "      <td>AL</td>\n",
       "      <td>0.975517</td>\n",
       "      <td>0.4125</td>\n",
       "      <td>0.75</td>\n",
       "      <td>0.928997</td>\n",
       "    </tr>\n",
       "  </tbody>\n",
       "</table>\n",
       "</div>"
      ],
      "text/plain": [
       "        TRACT    ZIP USPS_ZIP_PREF_CITY USPS_ZIP_PREF_STATE  RES_RATIO  \\\n",
       "0  1001020100  36067         PRATTVILLE                  AL   1.000000   \n",
       "1  1001020200  36067         PRATTVILLE                  AL   1.000000   \n",
       "2  1001020300  36067         PRATTVILLE                  AL   1.000000   \n",
       "3  1001020400  36067         PRATTVILLE                  AL   0.024483   \n",
       "4  1001020400  36066         PRATTVILLE                  AL   0.975517   \n",
       "\n",
       "   BUS_RATIO  OTH_RATIO  TOT_RATIO  \n",
       "0     1.0000       1.00   1.000000  \n",
       "1     1.0000       1.00   1.000000  \n",
       "2     1.0000       1.00   1.000000  \n",
       "3     0.5875       0.25   0.071003  \n",
       "4     0.4125       0.75   0.928997  "
      ]
     },
     "execution_count": 8,
     "metadata": {},
     "output_type": "execute_result"
    }
   ],
   "source": [
    "tract_zip.head()"
   ]
  },
  {
   "cell_type": "code",
   "execution_count": null,
   "metadata": {},
   "outputs": [],
   "source": []
  }
 ],
 "metadata": {
  "kernelspec": {
   "display_name": ".venv",
   "language": "python",
   "name": "python3"
  },
  "language_info": {
   "codemirror_mode": {
    "name": "ipython",
    "version": 3
   },
   "file_extension": ".py",
   "mimetype": "text/x-python",
   "name": "python",
   "nbconvert_exporter": "python",
   "pygments_lexer": "ipython3",
   "version": "3.12.5"
  }
 },
 "nbformat": 4,
 "nbformat_minor": 2
}
